{
 "cells": [
  {
   "cell_type": "markdown",
   "id": "9d5e5194-870d-4eba-b3fb-5f8da8bc8546",
   "metadata": {},
   "source": [
    "### FINAL TASK RAKAMIN INTERNSHIP\n",
    "Pada kesempatan kali ini, saya akan menyelesaikan tugas akhir dari magang virtual yang diselenggarakan oleh rakamin. Tugas kali ini merupakan tugas secara langsung \"pekerjaan\" Data Science. Pada file ini akan dibangun sebuah model untuk memprediksi credit risk, dengan data yang telah disediakan."
   ]
  },
  {
   "cell_type": "code",
   "execution_count": 1,
   "id": "96f3bf8f-e0e1-40bb-aef7-c127201e6a6c",
   "metadata": {},
   "outputs": [],
   "source": [
    "import warnings \n",
    "warnings.filterwarnings('ignore')\n",
    "\n",
    "import os\n",
    "import pandas as pd\n",
    "import numpy as np\n",
    "import seaborn as sns\n",
    "import matplotlib.pyplot as plt\n"
   ]
  },
  {
   "cell_type": "code",
   "execution_count": 5,
   "id": "39110d93-60e2-43e6-a94b-32e9df4431f5",
   "metadata": {
    "scrolled": false
   },
   "outputs": [],
   "source": [
    "cwd = os.getcwd()\n",
    "datapath = os.path.join(cwd, 'Data', 'loan_data_2007_2014.csv')\n",
    "dataset = pd.read_csv(datapath)"
   ]
  },
  {
   "cell_type": "code",
   "execution_count": 37,
   "id": "48ab1763",
   "metadata": {},
   "outputs": [
    {
     "data": {
      "text/html": [
       "<div>\n",
       "<style scoped>\n",
       "    .dataframe tbody tr th:only-of-type {\n",
       "        vertical-align: middle;\n",
       "    }\n",
       "\n",
       "    .dataframe tbody tr th {\n",
       "        vertical-align: top;\n",
       "    }\n",
       "\n",
       "    .dataframe thead th {\n",
       "        text-align: right;\n",
       "    }\n",
       "</style>\n",
       "<table border=\"1\" class=\"dataframe\">\n",
       "  <thead>\n",
       "    <tr style=\"text-align: right;\">\n",
       "      <th></th>\n",
       "      <th>Unnamed: 0</th>\n",
       "      <th>id</th>\n",
       "      <th>member_id</th>\n",
       "      <th>loan_amnt</th>\n",
       "      <th>funded_amnt</th>\n",
       "      <th>funded_amnt_inv</th>\n",
       "      <th>term</th>\n",
       "      <th>int_rate</th>\n",
       "      <th>installment</th>\n",
       "      <th>grade</th>\n",
       "      <th>...</th>\n",
       "      <th>total_bal_il</th>\n",
       "      <th>il_util</th>\n",
       "      <th>open_rv_12m</th>\n",
       "      <th>open_rv_24m</th>\n",
       "      <th>max_bal_bc</th>\n",
       "      <th>all_util</th>\n",
       "      <th>total_rev_hi_lim</th>\n",
       "      <th>inq_fi</th>\n",
       "      <th>total_cu_tl</th>\n",
       "      <th>inq_last_12m</th>\n",
       "    </tr>\n",
       "  </thead>\n",
       "  <tbody>\n",
       "    <tr>\n",
       "      <th>0</th>\n",
       "      <td>0</td>\n",
       "      <td>1077501</td>\n",
       "      <td>1296599</td>\n",
       "      <td>5000</td>\n",
       "      <td>5000</td>\n",
       "      <td>4975.0</td>\n",
       "      <td>36 months</td>\n",
       "      <td>10.65</td>\n",
       "      <td>162.87</td>\n",
       "      <td>B</td>\n",
       "      <td>...</td>\n",
       "      <td>NaN</td>\n",
       "      <td>NaN</td>\n",
       "      <td>NaN</td>\n",
       "      <td>NaN</td>\n",
       "      <td>NaN</td>\n",
       "      <td>NaN</td>\n",
       "      <td>NaN</td>\n",
       "      <td>NaN</td>\n",
       "      <td>NaN</td>\n",
       "      <td>NaN</td>\n",
       "    </tr>\n",
       "    <tr>\n",
       "      <th>1</th>\n",
       "      <td>1</td>\n",
       "      <td>1077430</td>\n",
       "      <td>1314167</td>\n",
       "      <td>2500</td>\n",
       "      <td>2500</td>\n",
       "      <td>2500.0</td>\n",
       "      <td>60 months</td>\n",
       "      <td>15.27</td>\n",
       "      <td>59.83</td>\n",
       "      <td>C</td>\n",
       "      <td>...</td>\n",
       "      <td>NaN</td>\n",
       "      <td>NaN</td>\n",
       "      <td>NaN</td>\n",
       "      <td>NaN</td>\n",
       "      <td>NaN</td>\n",
       "      <td>NaN</td>\n",
       "      <td>NaN</td>\n",
       "      <td>NaN</td>\n",
       "      <td>NaN</td>\n",
       "      <td>NaN</td>\n",
       "    </tr>\n",
       "    <tr>\n",
       "      <th>2</th>\n",
       "      <td>2</td>\n",
       "      <td>1077175</td>\n",
       "      <td>1313524</td>\n",
       "      <td>2400</td>\n",
       "      <td>2400</td>\n",
       "      <td>2400.0</td>\n",
       "      <td>36 months</td>\n",
       "      <td>15.96</td>\n",
       "      <td>84.33</td>\n",
       "      <td>C</td>\n",
       "      <td>...</td>\n",
       "      <td>NaN</td>\n",
       "      <td>NaN</td>\n",
       "      <td>NaN</td>\n",
       "      <td>NaN</td>\n",
       "      <td>NaN</td>\n",
       "      <td>NaN</td>\n",
       "      <td>NaN</td>\n",
       "      <td>NaN</td>\n",
       "      <td>NaN</td>\n",
       "      <td>NaN</td>\n",
       "    </tr>\n",
       "    <tr>\n",
       "      <th>3</th>\n",
       "      <td>3</td>\n",
       "      <td>1076863</td>\n",
       "      <td>1277178</td>\n",
       "      <td>10000</td>\n",
       "      <td>10000</td>\n",
       "      <td>10000.0</td>\n",
       "      <td>36 months</td>\n",
       "      <td>13.49</td>\n",
       "      <td>339.31</td>\n",
       "      <td>C</td>\n",
       "      <td>...</td>\n",
       "      <td>NaN</td>\n",
       "      <td>NaN</td>\n",
       "      <td>NaN</td>\n",
       "      <td>NaN</td>\n",
       "      <td>NaN</td>\n",
       "      <td>NaN</td>\n",
       "      <td>NaN</td>\n",
       "      <td>NaN</td>\n",
       "      <td>NaN</td>\n",
       "      <td>NaN</td>\n",
       "    </tr>\n",
       "    <tr>\n",
       "      <th>4</th>\n",
       "      <td>4</td>\n",
       "      <td>1075358</td>\n",
       "      <td>1311748</td>\n",
       "      <td>3000</td>\n",
       "      <td>3000</td>\n",
       "      <td>3000.0</td>\n",
       "      <td>60 months</td>\n",
       "      <td>12.69</td>\n",
       "      <td>67.79</td>\n",
       "      <td>B</td>\n",
       "      <td>...</td>\n",
       "      <td>NaN</td>\n",
       "      <td>NaN</td>\n",
       "      <td>NaN</td>\n",
       "      <td>NaN</td>\n",
       "      <td>NaN</td>\n",
       "      <td>NaN</td>\n",
       "      <td>NaN</td>\n",
       "      <td>NaN</td>\n",
       "      <td>NaN</td>\n",
       "      <td>NaN</td>\n",
       "    </tr>\n",
       "  </tbody>\n",
       "</table>\n",
       "<p>5 rows × 75 columns</p>\n",
       "</div>"
      ],
      "text/plain": [
       "   Unnamed: 0       id  member_id  loan_amnt  funded_amnt  funded_amnt_inv  \\\n",
       "0           0  1077501    1296599       5000         5000           4975.0   \n",
       "1           1  1077430    1314167       2500         2500           2500.0   \n",
       "2           2  1077175    1313524       2400         2400           2400.0   \n",
       "3           3  1076863    1277178      10000        10000          10000.0   \n",
       "4           4  1075358    1311748       3000         3000           3000.0   \n",
       "\n",
       "         term  int_rate  installment grade  ... total_bal_il il_util  \\\n",
       "0   36 months     10.65       162.87     B  ...          NaN     NaN   \n",
       "1   60 months     15.27        59.83     C  ...          NaN     NaN   \n",
       "2   36 months     15.96        84.33     C  ...          NaN     NaN   \n",
       "3   36 months     13.49       339.31     C  ...          NaN     NaN   \n",
       "4   60 months     12.69        67.79     B  ...          NaN     NaN   \n",
       "\n",
       "  open_rv_12m open_rv_24m  max_bal_bc all_util total_rev_hi_lim inq_fi  \\\n",
       "0         NaN         NaN         NaN      NaN              NaN    NaN   \n",
       "1         NaN         NaN         NaN      NaN              NaN    NaN   \n",
       "2         NaN         NaN         NaN      NaN              NaN    NaN   \n",
       "3         NaN         NaN         NaN      NaN              NaN    NaN   \n",
       "4         NaN         NaN         NaN      NaN              NaN    NaN   \n",
       "\n",
       "  total_cu_tl inq_last_12m  \n",
       "0         NaN          NaN  \n",
       "1         NaN          NaN  \n",
       "2         NaN          NaN  \n",
       "3         NaN          NaN  \n",
       "4         NaN          NaN  \n",
       "\n",
       "[5 rows x 75 columns]"
      ]
     },
     "execution_count": 37,
     "metadata": {},
     "output_type": "execute_result"
    }
   ],
   "source": [
    "df = dataset.copy()\n",
    "df.head()"
   ]
  },
  {
   "cell_type": "code",
   "execution_count": 5,
   "id": "b4785176-cc78-4873-a2f8-83d58807e087",
   "metadata": {
    "scrolled": false
   },
   "outputs": [
    {
     "name": "stdout",
     "output_type": "stream",
     "text": [
      "<class 'pandas.core.frame.DataFrame'>\n",
      "RangeIndex: 466285 entries, 0 to 466284\n",
      "Data columns (total 75 columns):\n",
      " #   Column                       Non-Null Count   Dtype  \n",
      "---  ------                       --------------   -----  \n",
      " 0   Unnamed: 0                   466285 non-null  int64  \n",
      " 1   id                           466285 non-null  int64  \n",
      " 2   member_id                    466285 non-null  int64  \n",
      " 3   loan_amnt                    466285 non-null  int64  \n",
      " 4   funded_amnt                  466285 non-null  int64  \n",
      " 5   funded_amnt_inv              466285 non-null  float64\n",
      " 6   term                         466285 non-null  object \n",
      " 7   int_rate                     466285 non-null  float64\n",
      " 8   installment                  466285 non-null  float64\n",
      " 9   grade                        466285 non-null  object \n",
      " 10  sub_grade                    466285 non-null  object \n",
      " 11  emp_title                    438697 non-null  object \n",
      " 12  emp_length                   445277 non-null  object \n",
      " 13  home_ownership               466285 non-null  object \n",
      " 14  annual_inc                   466281 non-null  float64\n",
      " 15  verification_status          466285 non-null  object \n",
      " 16  issue_d                      466285 non-null  object \n",
      " 17  loan_status                  466285 non-null  object \n",
      " 18  pymnt_plan                   466285 non-null  object \n",
      " 19  url                          466285 non-null  object \n",
      " 20  desc                         125983 non-null  object \n",
      " 21  purpose                      466285 non-null  object \n",
      " 22  title                        466265 non-null  object \n",
      " 23  zip_code                     466285 non-null  object \n",
      " 24  addr_state                   466285 non-null  object \n",
      " 25  dti                          466285 non-null  float64\n",
      " 26  delinq_2yrs                  466256 non-null  float64\n",
      " 27  earliest_cr_line             466256 non-null  object \n",
      " 28  inq_last_6mths               466256 non-null  float64\n",
      " 29  mths_since_last_delinq       215934 non-null  float64\n",
      " 30  mths_since_last_record       62638 non-null   float64\n",
      " 31  open_acc                     466256 non-null  float64\n",
      " 32  pub_rec                      466256 non-null  float64\n",
      " 33  revol_bal                    466285 non-null  int64  \n",
      " 34  revol_util                   465945 non-null  float64\n",
      " 35  total_acc                    466256 non-null  float64\n",
      " 36  initial_list_status          466285 non-null  object \n",
      " 37  out_prncp                    466285 non-null  float64\n",
      " 38  out_prncp_inv                466285 non-null  float64\n",
      " 39  total_pymnt                  466285 non-null  float64\n",
      " 40  total_pymnt_inv              466285 non-null  float64\n",
      " 41  total_rec_prncp              466285 non-null  float64\n",
      " 42  total_rec_int                466285 non-null  float64\n",
      " 43  total_rec_late_fee           466285 non-null  float64\n",
      " 44  recoveries                   466285 non-null  float64\n",
      " 45  collection_recovery_fee      466285 non-null  float64\n",
      " 46  last_pymnt_d                 465909 non-null  object \n",
      " 47  last_pymnt_amnt              466285 non-null  float64\n",
      " 48  next_pymnt_d                 239071 non-null  object \n",
      " 49  last_credit_pull_d           466243 non-null  object \n",
      " 50  collections_12_mths_ex_med   466140 non-null  float64\n",
      " 51  mths_since_last_major_derog  98974 non-null   float64\n",
      " 52  policy_code                  466285 non-null  int64  \n",
      " 53  application_type             466285 non-null  object \n",
      " 54  annual_inc_joint             0 non-null       float64\n",
      " 55  dti_joint                    0 non-null       float64\n",
      " 56  verification_status_joint    0 non-null       float64\n",
      " 57  acc_now_delinq               466256 non-null  float64\n",
      " 58  tot_coll_amt                 396009 non-null  float64\n",
      " 59  tot_cur_bal                  396009 non-null  float64\n",
      " 60  open_acc_6m                  0 non-null       float64\n",
      " 61  open_il_6m                   0 non-null       float64\n",
      " 62  open_il_12m                  0 non-null       float64\n",
      " 63  open_il_24m                  0 non-null       float64\n",
      " 64  mths_since_rcnt_il           0 non-null       float64\n",
      " 65  total_bal_il                 0 non-null       float64\n",
      " 66  il_util                      0 non-null       float64\n",
      " 67  open_rv_12m                  0 non-null       float64\n",
      " 68  open_rv_24m                  0 non-null       float64\n",
      " 69  max_bal_bc                   0 non-null       float64\n",
      " 70  all_util                     0 non-null       float64\n",
      " 71  total_rev_hi_lim             396009 non-null  float64\n",
      " 72  inq_fi                       0 non-null       float64\n",
      " 73  total_cu_tl                  0 non-null       float64\n",
      " 74  inq_last_12m                 0 non-null       float64\n",
      "dtypes: float64(46), int64(7), object(22)\n",
      "memory usage: 266.8+ MB\n"
     ]
    }
   ],
   "source": [
    "df.info()"
   ]
  },
  {
   "cell_type": "markdown",
   "id": "313c9c99",
   "metadata": {},
   "source": [
    "Berikut info null value dan tipe data dari dataset yang kita gunakan kali ini, terlihat banyak sekali atribut yang memiliki null value. Pada kesempatan kali ini, kita akan langsung saja mengeliminasi atribut tersebut (terlebih sudah terlalu banyak atribut (>70 atribut).\n",
    "\n",
    "Disini saya akan melakukan berbagai percobaan:\n",
    "\n",
    "1. Kita akan mengeliminasi semua atribut yang memiliki nilai null\n",
    "2. Kita akan mengeliminasi atribut yang sama sekali tidak memiliki nilai (0 non-null sampai 25% panjang data)."
   ]
  },
  {
   "cell_type": "code",
   "execution_count": 38,
   "id": "93e4a669",
   "metadata": {},
   "outputs": [
    {
     "name": "stdout",
     "output_type": "stream",
     "text": [
      "<class 'pandas.core.frame.DataFrame'>\n",
      "RangeIndex: 466285 entries, 0 to 466284\n",
      "Data columns (total 35 columns):\n",
      " #   Column                   Non-Null Count   Dtype  \n",
      "---  ------                   --------------   -----  \n",
      " 0   Unnamed: 0               466285 non-null  int64  \n",
      " 1   id                       466285 non-null  int64  \n",
      " 2   member_id                466285 non-null  int64  \n",
      " 3   loan_amnt                466285 non-null  int64  \n",
      " 4   funded_amnt              466285 non-null  int64  \n",
      " 5   funded_amnt_inv          466285 non-null  float64\n",
      " 6   term                     466285 non-null  object \n",
      " 7   int_rate                 466285 non-null  float64\n",
      " 8   installment              466285 non-null  float64\n",
      " 9   grade                    466285 non-null  object \n",
      " 10  sub_grade                466285 non-null  object \n",
      " 11  home_ownership           466285 non-null  object \n",
      " 12  verification_status      466285 non-null  object \n",
      " 13  issue_d                  466285 non-null  object \n",
      " 14  loan_status              466285 non-null  object \n",
      " 15  pymnt_plan               466285 non-null  object \n",
      " 16  url                      466285 non-null  object \n",
      " 17  purpose                  466285 non-null  object \n",
      " 18  zip_code                 466285 non-null  object \n",
      " 19  addr_state               466285 non-null  object \n",
      " 20  dti                      466285 non-null  float64\n",
      " 21  revol_bal                466285 non-null  int64  \n",
      " 22  initial_list_status      466285 non-null  object \n",
      " 23  out_prncp                466285 non-null  float64\n",
      " 24  out_prncp_inv            466285 non-null  float64\n",
      " 25  total_pymnt              466285 non-null  float64\n",
      " 26  total_pymnt_inv          466285 non-null  float64\n",
      " 27  total_rec_prncp          466285 non-null  float64\n",
      " 28  total_rec_int            466285 non-null  float64\n",
      " 29  total_rec_late_fee       466285 non-null  float64\n",
      " 30  recoveries               466285 non-null  float64\n",
      " 31  collection_recovery_fee  466285 non-null  float64\n",
      " 32  last_pymnt_amnt          466285 non-null  float64\n",
      " 33  policy_code              466285 non-null  int64  \n",
      " 34  application_type         466285 non-null  object \n",
      "dtypes: float64(14), int64(7), object(14)\n",
      "memory usage: 124.5+ MB\n"
     ]
    }
   ],
   "source": [
    "# 1\n",
    "df.dropna(inplace = True, axis = 1)\n",
    "\n",
    "# 2. \n",
    "# for column in df.columns:\n",
    "#     if df[column].isna().sum() > len(df) - 0.25 * len(df):\n",
    "#         df.drop([column], inplace = True, axis = 1)\n",
    "\n",
    "df.info()"
   ]
  },
  {
   "cell_type": "markdown",
   "id": "f64e3d74",
   "metadata": {},
   "source": [
    "Sehingga, dari opsi 1 didapati hasil sisa yaitu data dengan 34 atribut dan berjumlah 4662285 baris.\n",
    "\n",
    "### Pemahaman Data\n",
    "1. loan_amnt : pembayaran bulan lalu yang diterima\n",
    "2. funded_amnt : "
   ]
  },
  {
   "cell_type": "markdown",
   "id": "35fd470f-2ed8-4781-b379-59df8e65cf79",
   "metadata": {},
   "source": [
    "Melihat data grade dari credit card data dengan menghitung tiap grade yang ada pada data yang akan diprediksi."
   ]
  },
  {
   "cell_type": "code",
   "execution_count": 41,
   "id": "82be63bf",
   "metadata": {
    "scrolled": false
   },
   "outputs": [
    {
     "data": {
      "text/plain": [
       "<AxesSubplot:xlabel='grade', ylabel='count'>"
      ]
     },
     "execution_count": 41,
     "metadata": {},
     "output_type": "execute_result"
    },
    {
     "data": {
      "image/png": "[encoded data removed]",
      "text/plain": [
       "<Figure size 648x648 with 1 Axes>"
      ]
     },
     "metadata": {
      "needs_background": "light"
     },
     "output_type": "display_data"
    }
   ],
   "source": [
    "plt.figure(figsize = (9,9))\n",
    "sns.countplot(data = df, x = 'grade', order = sorted(df.grade.unique()))"
   ]
  },
  {
   "cell_type": "code",
   "execution_count": null,
   "id": "574769a1",
   "metadata": {},
   "outputs": [],
   "source": [
    "plt.figure(figsize = (9,9))\n",
    "sns.countplot(data = df, x = 'sub_grade', order = df.sub_grade)"
   ]
  },
  {
   "cell_type": "markdown",
   "id": "608995f6",
   "metadata": {},
   "source": [
    "drop null value data, yang kemudian menghasilkan 34 sisa atribut."
   ]
  },
  {
   "cell_type": "code",
   "execution_count": 7,
   "id": "53cb705f",
   "metadata": {
    "scrolled": true
   },
   "outputs": [
    {
     "data": {
      "text/html": [
       "<div>\n",
       "<style scoped>\n",
       "    .dataframe tbody tr th:only-of-type {\n",
       "        vertical-align: middle;\n",
       "    }\n",
       "\n",
       "    .dataframe tbody tr th {\n",
       "        vertical-align: top;\n",
       "    }\n",
       "\n",
       "    .dataframe thead th {\n",
       "        text-align: right;\n",
       "    }\n",
       "</style>\n",
       "<table border=\"1\" class=\"dataframe\">\n",
       "  <thead>\n",
       "    <tr style=\"text-align: right;\">\n",
       "      <th></th>\n",
       "      <th>Unnamed: 0</th>\n",
       "      <th>id</th>\n",
       "      <th>member_id</th>\n",
       "      <th>loan_amnt</th>\n",
       "      <th>funded_amnt</th>\n",
       "      <th>funded_amnt_inv</th>\n",
       "      <th>term</th>\n",
       "      <th>int_rate</th>\n",
       "      <th>installment</th>\n",
       "      <th>grade</th>\n",
       "      <th>...</th>\n",
       "      <th>total_pymnt</th>\n",
       "      <th>total_pymnt_inv</th>\n",
       "      <th>total_rec_prncp</th>\n",
       "      <th>total_rec_int</th>\n",
       "      <th>total_rec_late_fee</th>\n",
       "      <th>recoveries</th>\n",
       "      <th>collection_recovery_fee</th>\n",
       "      <th>last_pymnt_amnt</th>\n",
       "      <th>policy_code</th>\n",
       "      <th>application_type</th>\n",
       "    </tr>\n",
       "  </thead>\n",
       "  <tbody>\n",
       "    <tr>\n",
       "      <th>0</th>\n",
       "      <td>0</td>\n",
       "      <td>1077501</td>\n",
       "      <td>1296599</td>\n",
       "      <td>5000</td>\n",
       "      <td>5000</td>\n",
       "      <td>4975.0</td>\n",
       "      <td>36 months</td>\n",
       "      <td>10.65</td>\n",
       "      <td>162.87</td>\n",
       "      <td>B</td>\n",
       "      <td>...</td>\n",
       "      <td>5861.071414</td>\n",
       "      <td>5831.78</td>\n",
       "      <td>5000.00</td>\n",
       "      <td>861.07</td>\n",
       "      <td>0.00</td>\n",
       "      <td>0.00</td>\n",
       "      <td>0.00</td>\n",
       "      <td>171.62</td>\n",
       "      <td>1</td>\n",
       "      <td>INDIVIDUAL</td>\n",
       "    </tr>\n",
       "    <tr>\n",
       "      <th>1</th>\n",
       "      <td>1</td>\n",
       "      <td>1077430</td>\n",
       "      <td>1314167</td>\n",
       "      <td>2500</td>\n",
       "      <td>2500</td>\n",
       "      <td>2500.0</td>\n",
       "      <td>60 months</td>\n",
       "      <td>15.27</td>\n",
       "      <td>59.83</td>\n",
       "      <td>C</td>\n",
       "      <td>...</td>\n",
       "      <td>1008.710000</td>\n",
       "      <td>1008.71</td>\n",
       "      <td>456.46</td>\n",
       "      <td>435.17</td>\n",
       "      <td>0.00</td>\n",
       "      <td>117.08</td>\n",
       "      <td>1.11</td>\n",
       "      <td>119.66</td>\n",
       "      <td>1</td>\n",
       "      <td>INDIVIDUAL</td>\n",
       "    </tr>\n",
       "    <tr>\n",
       "      <th>2</th>\n",
       "      <td>2</td>\n",
       "      <td>1077175</td>\n",
       "      <td>1313524</td>\n",
       "      <td>2400</td>\n",
       "      <td>2400</td>\n",
       "      <td>2400.0</td>\n",
       "      <td>36 months</td>\n",
       "      <td>15.96</td>\n",
       "      <td>84.33</td>\n",
       "      <td>C</td>\n",
       "      <td>...</td>\n",
       "      <td>3003.653644</td>\n",
       "      <td>3003.65</td>\n",
       "      <td>2400.00</td>\n",
       "      <td>603.65</td>\n",
       "      <td>0.00</td>\n",
       "      <td>0.00</td>\n",
       "      <td>0.00</td>\n",
       "      <td>649.91</td>\n",
       "      <td>1</td>\n",
       "      <td>INDIVIDUAL</td>\n",
       "    </tr>\n",
       "    <tr>\n",
       "      <th>3</th>\n",
       "      <td>3</td>\n",
       "      <td>1076863</td>\n",
       "      <td>1277178</td>\n",
       "      <td>10000</td>\n",
       "      <td>10000</td>\n",
       "      <td>10000.0</td>\n",
       "      <td>36 months</td>\n",
       "      <td>13.49</td>\n",
       "      <td>339.31</td>\n",
       "      <td>C</td>\n",
       "      <td>...</td>\n",
       "      <td>12226.302210</td>\n",
       "      <td>12226.30</td>\n",
       "      <td>10000.00</td>\n",
       "      <td>2209.33</td>\n",
       "      <td>16.97</td>\n",
       "      <td>0.00</td>\n",
       "      <td>0.00</td>\n",
       "      <td>357.48</td>\n",
       "      <td>1</td>\n",
       "      <td>INDIVIDUAL</td>\n",
       "    </tr>\n",
       "    <tr>\n",
       "      <th>4</th>\n",
       "      <td>4</td>\n",
       "      <td>1075358</td>\n",
       "      <td>1311748</td>\n",
       "      <td>3000</td>\n",
       "      <td>3000</td>\n",
       "      <td>3000.0</td>\n",
       "      <td>60 months</td>\n",
       "      <td>12.69</td>\n",
       "      <td>67.79</td>\n",
       "      <td>B</td>\n",
       "      <td>...</td>\n",
       "      <td>3242.170000</td>\n",
       "      <td>3242.17</td>\n",
       "      <td>2233.10</td>\n",
       "      <td>1009.07</td>\n",
       "      <td>0.00</td>\n",
       "      <td>0.00</td>\n",
       "      <td>0.00</td>\n",
       "      <td>67.79</td>\n",
       "      <td>1</td>\n",
       "      <td>INDIVIDUAL</td>\n",
       "    </tr>\n",
       "  </tbody>\n",
       "</table>\n",
       "<p>5 rows × 35 columns</p>\n",
       "</div>"
      ],
      "text/plain": [
       "   Unnamed: 0       id  member_id  loan_amnt  funded_amnt  funded_amnt_inv  \\\n",
       "0           0  1077501    1296599       5000         5000           4975.0   \n",
       "1           1  1077430    1314167       2500         2500           2500.0   \n",
       "2           2  1077175    1313524       2400         2400           2400.0   \n",
       "3           3  1076863    1277178      10000        10000          10000.0   \n",
       "4           4  1075358    1311748       3000         3000           3000.0   \n",
       "\n",
       "         term  int_rate  installment grade  ...   total_pymnt total_pymnt_inv  \\\n",
       "0   36 months     10.65       162.87     B  ...   5861.071414         5831.78   \n",
       "1   60 months     15.27        59.83     C  ...   1008.710000         1008.71   \n",
       "2   36 months     15.96        84.33     C  ...   3003.653644         3003.65   \n",
       "3   36 months     13.49       339.31     C  ...  12226.302210        12226.30   \n",
       "4   60 months     12.69        67.79     B  ...   3242.170000         3242.17   \n",
       "\n",
       "  total_rec_prncp total_rec_int total_rec_late_fee recoveries  \\\n",
       "0         5000.00        861.07               0.00       0.00   \n",
       "1          456.46        435.17               0.00     117.08   \n",
       "2         2400.00        603.65               0.00       0.00   \n",
       "3        10000.00       2209.33              16.97       0.00   \n",
       "4         2233.10       1009.07               0.00       0.00   \n",
       "\n",
       "  collection_recovery_fee last_pymnt_amnt policy_code application_type  \n",
       "0                    0.00          171.62           1       INDIVIDUAL  \n",
       "1                    1.11          119.66           1       INDIVIDUAL  \n",
       "2                    0.00          649.91           1       INDIVIDUAL  \n",
       "3                    0.00          357.48           1       INDIVIDUAL  \n",
       "4                    0.00           67.79           1       INDIVIDUAL  \n",
       "\n",
       "[5 rows x 35 columns]"
      ]
     },
     "execution_count": 7,
     "metadata": {},
     "output_type": "execute_result"
    }
   ],
   "source": [
    "df.dropna(axis = 1, inplace = True)\n",
    "df.head()"
   ]
  },
  {
   "cell_type": "markdown",
   "id": "c1a4c0e3",
   "metadata": {},
   "source": [
    "#### Preprocessing data dengan tipe data object"
   ]
  },
  {
   "cell_type": "code",
   "execution_count": 9,
   "id": "9ae26a24",
   "metadata": {
    "scrolled": false
   },
   "outputs": [
    {
     "name": "stdout",
     "output_type": "stream",
     "text": [
      "KOLOM term \t : [' 36 months' ' 60 months']\n",
      "KOLOM grade \t : ['B' 'C' 'A' 'E' 'F' 'D' 'G']\n",
      "KOLOM sub_grade \t : ['B2' 'C4' 'C5' 'C1' 'B5' 'A4' 'E1' 'F2' 'C3' 'B1' 'D1' 'A1' 'B3' 'B4'\n",
      " 'C2' 'D2' 'A3' 'A5' 'D5' 'A2' 'E4' 'D3' 'D4' 'F3' 'E3' 'F4' 'F1' 'E5'\n",
      " 'G4' 'E2' 'G3' 'G2' 'G1' 'F5' 'G5']\n",
      "KOLOM home_ownership \t : ['RENT' 'OWN' 'MORTGAGE' 'OTHER' 'NONE' 'ANY']\n",
      "KOLOM verification_status \t : ['Verified' 'Source Verified' 'Not Verified']\n",
      "KOLOM issue_d \t : ['Dec-11' 'Nov-11' 'Oct-11' 'Sep-11' 'Aug-11' 'Jul-11' 'Jun-11' 'May-11'\n",
      " 'Apr-11' 'Mar-11' 'Feb-11' 'Jan-11' 'Dec-10' 'Nov-10' 'Oct-10' 'Sep-10'\n",
      " 'Aug-10' 'Jul-10' 'Jun-10' 'May-10' 'Apr-10' 'Mar-10' 'Feb-10' 'Jan-10'\n",
      " 'Dec-09' 'Nov-09' 'Oct-09' 'Sep-09' 'Aug-09' 'Jul-09' 'Jun-09' 'May-09'\n",
      " 'Apr-09' 'Mar-09' 'Feb-09' 'Jan-09' 'Dec-08' 'Nov-08' 'Oct-08' 'Sep-08'\n",
      " 'Aug-08' 'Jul-08' 'Jun-08' 'May-08' 'Apr-08' 'Mar-08' 'Feb-08' 'Jan-08'\n",
      " 'Dec-07' 'Nov-07' 'Oct-07' 'Sep-07' 'Aug-07' 'Jul-07' 'Jun-07' 'Dec-13'\n",
      " 'Nov-13' 'Oct-13' 'Sep-13' 'Aug-13' 'Jul-13' 'Jun-13' 'May-13' 'Apr-13'\n",
      " 'Mar-13' 'Feb-13' 'Jan-13' 'Dec-12' 'Nov-12' 'Oct-12' 'Sep-12' 'Aug-12'\n",
      " 'Jul-12' 'Jun-12' 'May-12' 'Apr-12' 'Mar-12' 'Feb-12' 'Jan-12' 'Dec-14'\n",
      " 'Nov-14' 'Oct-14' 'Sep-14' 'Aug-14' 'Jul-14' 'Jun-14' 'May-14' 'Apr-14'\n",
      " 'Mar-14' 'Feb-14' 'Jan-14']\n",
      "KOLOM loan_status \t : ['Fully Paid' 'Charged Off' 'Current' 'Default' 'Late (31-120 days)'\n",
      " 'In Grace Period' 'Late (16-30 days)'\n",
      " 'Does not meet the credit policy. Status:Fully Paid'\n",
      " 'Does not meet the credit policy. Status:Charged Off']\n",
      "KOLOM pymnt_plan \t : ['n' 'y']\n",
      "KOLOM url \t : ['https://www.lendingclub.com/browse/loanDetail.action?loan_id=1077501'\n",
      " 'https://www.lendingclub.com/browse/loanDetail.action?loan_id=1077430'\n",
      " 'https://www.lendingclub.com/browse/loanDetail.action?loan_id=1077175'\n",
      " ...\n",
      " 'https://www.lendingclub.com/browse/loanDetail.action?loan_id=9584776'\n",
      " 'https://www.lendingclub.com/browse/loanDetail.action?loan_id=9604874'\n",
      " 'https://www.lendingclub.com/browse/loanDetail.action?loan_id=9199665']\n",
      "KOLOM purpose \t : ['credit_card' 'car' 'small_business' 'other' 'wedding'\n",
      " 'debt_consolidation' 'home_improvement' 'major_purchase' 'medical'\n",
      " 'moving' 'vacation' 'house' 'renewable_energy' 'educational']\n",
      "KOLOM zip_code \t : ['860xx' '309xx' '606xx' '917xx' '972xx' '852xx' '280xx' '900xx' '958xx'\n",
      " '774xx' '853xx' '913xx' '245xx' '951xx' '641xx' '921xx' '067xx' '890xx'\n",
      " '770xx' '335xx' '799xx' '605xx' '103xx' '150xx' '326xx' '564xx' '141xx'\n",
      " '080xx' '330xx' '974xx' '934xx' '405xx' '946xx' '445xx' '850xx' '604xx'\n",
      " '292xx' '088xx' '180xx' '029xx' '700xx' '010xx' '441xx' '104xx' '061xx'\n",
      " '616xx' '947xx' '914xx' '765xx' '980xx' '017xx' '752xx' '787xx' '077xx'\n",
      " '540xx' '225xx' '440xx' '437xx' '559xx' '912xx' '325xx' '300xx' '923xx'\n",
      " '352xx' '013xx' '146xx' '074xx' '786xx' '937xx' '331xx' '115xx' '191xx'\n",
      " '114xx' '908xx' '902xx' '992xx' '750xx' '950xx' '329xx' '226xx' '614xx'\n",
      " '802xx' '672xx' '083xx' '100xx' '926xx' '931xx' '712xx' '060xx' '707xx'\n",
      " '342xx' '895xx' '430xx' '919xx' '996xx' '891xx' '935xx' '801xx' '928xx'\n",
      " '233xx' '927xx' '970xx' '211xx' '303xx' '070xx' '194xx' '263xx' '403xx'\n",
      " '301xx' '553xx' '993xx' '312xx' '432xx' '602xx' '216xx' '151xx' '971xx'\n",
      " '305xx' '334xx' '050xx' '129xx' '925xx' '483xx' '760xx' '961xx' '200xx'\n",
      " '085xx' '981xx' '601xx' '117xx' '063xx' '920xx' '543xx' '775xx' '570xx'\n",
      " '038xx' '221xx' '985xx' '113xx' '275xx' '236xx' '148xx' '028xx' '450xx'\n",
      " '532xx' '729xx' '321xx' '959xx' '941xx' '955xx' '217xx' '880xx' '660xx'\n",
      " '062xx' '193xx' '761xx' '857xx' '306xx' '271xx' '142xx' '956xx' '983xx'\n",
      " '945xx' '109xx' '112xx' '187xx' '630xx' '435xx' '488xx' '287xx' '705xx'\n",
      " '592xx' '318xx' '549xx' '212xx' '347xx' '274xx' '265xx' '785xx' '027xx'\n",
      " '089xx' '813xx' '069xx' '260xx' '201xx' '349xx' '322xx' '075xx' '124xx'\n",
      " '940xx' '967xx' '111xx' '773xx' '997xx' '076xx' '538xx' '021xx' '304xx'\n",
      " '234xx' '308xx' '809xx' '071xx' '363xx' '296xx' '240xx' '830xx' '011xx'\n",
      " '622xx' '207xx' '140xx' '336xx' '619xx' '208xx' '618xx' '014xx' '644xx'\n",
      " '283xx' '276xx' '631xx' '243xx' '960xx' '181xx' '922xx' '224xx' '975xx'\n",
      " '105xx' '986xx' '218xx' '652xx' '782xx' '410xx' '480xx' '328xx' '719xx'\n",
      " '982xx' '065xx' '081xx' '954xx' '346xx' '442xx' '025xx' '122xx' '173xx'\n",
      " '282xx' '120xx' '082xx' '766xx' '229xx' '840xx' '744xx' '933xx' '451xx'\n",
      " '907xx' '728xx' '159xx' '333xx' '293xx' '701xx' '984xx' '811xx' '597xx'\n",
      " '957xx' '165xx' '720xx' '119xx' '359xx' '195xx' '084xx' '969xx' '924xx'\n",
      " '531xx' '716xx' '337xx' '841xx' '323xx' '740xx' '179xx' '805xx' '285xx'\n",
      " '551xx' '658xx' '944xx' '232xx' '905xx' '600xx' '327xx' '711xx' '906xx'\n",
      " '444xx' '856xx' '064xx' '777xx' '072xx' '554xx' '145xx' '537xx' '152xx'\n",
      " '847xx' '295xx' '829xx' '320xx' '131xx' '939xx' '572xx' '281xx' '550xx'\n",
      " '078xx' '452xx' '778xx' '313xx' '851xx' '784xx' '804xx' '571xx' '210xx'\n",
      " '988xx' '400xx' '995xx' '023xx' '158xx' '657xx' '016xx' '019xx' '290xx'\n",
      " '190xx' '366xx' '066xx' '991xx' '968xx' '721xx' '439xx' '640xx' '546xx'\n",
      " '024xx' '751xx' '431xx' '741xx' '904xx' '156xx' '316xx' '299xx' '087xx'\n",
      " '739xx' '949xx' '261xx' '073xx' '222xx' '244xx' '617xx' '018xx' '286xx'\n",
      " '759xx' '952xx' '930xx' '911xx' '220xx' '731xx' '730xx' '262xx' '338xx'\n",
      " '160xx' '031xx' '054xx' '223xx' '272xx' '882xx' '557xx' '797xx' '725xx'\n",
      " '130xx' '030xx' '206xx' '324xx' '170xx' '291xx' '161xx' '647xx' '916xx'\n",
      " '665xx' '209xx' '915xx' '110xx' '086xx' '484xx' '844xx' '020xx' '354xx'\n",
      " '448xx' '978xx' '757xx' '953xx' '577xx' '315xx' '664xx' '186xx' '182xx'\n",
      " '574xx' '800xx' '197xx' '137xx' '314xx' '755xx' '973xx' '603xx' '481xx'\n",
      " '780xx' '894xx' '341xx' '361xx' '178xx' '068xx' '565xx' '611xx' '288xx'\n",
      " '443xx' '662xx' '874xx' '560xx' '535xx' '499xx' '162xx' '756xx' '168xx'\n",
      " '827xx' '541xx' '615xx' '989xx' '037xx' '863xx' '339xx' '367xx' '273xx'\n",
      " '052xx' '623xx' '416xx' '648xx' '918xx' '436xx' '898xx' '674xx' '496xx'\n",
      " '294xx' '762xx' '128xx' '903xx' '932xx' '650xx' '246xx' '633xx' '666xx'\n",
      " '228xx' '015xx' '302xx' '573xx' '118xx' '998xx' '767xx' '490xx' '350xx'\n",
      " '591xx' '254xx' '566xx' '596xx' '637xx' '032xx' '763xx' '871xx' '494xx'\n",
      " '402xx' '545xx' '184xx' '458xx' '239xx' '977xx' '297xx' '284xx' '144xx'\n",
      " '748xx' '310xx' '147xx' '153xx' '544xx' '948xx' '576xx' '976xx' '107xx'\n",
      " '846xx' '344xx' '351xx' '754xx' '910xx' '656xx' '357xx' '791xx' '493xx'\n",
      " '855xx' '278xx' '125xx' '175xx' '530xx' '171xx' '703xx' '620xx' '438xx'\n",
      " '626xx' '307xx' '636xx' '319xx' '116xx' '645xx' '708xx' '816xx' '625xx'\n",
      " '133xx' '612xx' '238xx' '166xx' '231xx' '241xx' '826xx' '783xx' '793xx'\n",
      " '646xx' '188xx' '108xx' '653xx' '057xx' '796xx' '990xx' '219xx' '724xx'\n",
      " '456xx' '214xx' '237xx' '737xx' '121xx' '199xx' '548xx' '453xx' '704xx'\n",
      " '368xx' '828xx' '598xx' '136xx' '610xx' '433xx' '722xx' '743xx' '810xx'\n",
      " '706xx' '235xx' '139xx' '613xx' '454xx' '317xx' '746xx' '446xx' '486xx'\n",
      " '033xx' '279xx' '407xx' '803xx' '794xx' '457xx' '189xx' '196xx' '539xx'\n",
      " '424xx' '492xx' '482xx' '667xx' '845xx' '608xx' '401xx' '362xx' '627xx'\n",
      " '717xx' '356xx' '607xx' '963xx' '198xx' '936xx' '713xx' '227xx' '883xx'\n",
      " '563xx' '893xx' '079xx' '806xx' '360xx' '172xx' '422xx' '768xx' '034xx'\n",
      " '735xx' '870xx' '012xx' '594xx' '215xx' '628xx' '749xx' '101xx' '814xx'\n",
      " '255xx' '745xx' '495xx' '132xx' '183xx' '864xx' '106xx' '663xx' '943xx'\n",
      " '094xx' '177xx' '365xx' '897xx' '776xx' '843xx' '421xx' '253xx' '795xx'\n",
      " '727xx' '528xx' '270xx' '808xx' '277xx' '447xx' '358xx' '815xx' '250xx'\n",
      " '230xx' '790xx' '884xx' '242xx' '534xx' '404xx' '397xx' '434xx' '671xx'\n",
      " '655xx' '675xx' '053xx' '859xx' '126xx' '102xx' '256xx' '673xx' '489xx'\n",
      " '258xx' '423xx' '497xx' '788xx' '127xx' '176xx' '380xx' '058xx' '635xx'\n",
      " '498xx' '820xx' '599xx' '822xx' '638xx' '723xx' '449xx' '420xx' '157xx'\n",
      " '726xx' '185xx' '527xx' '298xx' '769xx' '257xx' '881xx' '575xx' '624xx'\n",
      " '134xx' '877xx' '781xx' '718xx' '670xx' '138xx' '026xx' '678xx' '398xx'\n",
      " '411xx' '149xx' '247xx' '875xx' '838xx' '651xx' '364xx' '203xx' '427xx'\n",
      " '629xx' '355xx' '174xx' '547xx' '567xx' '558xx' '135xx' '035xx' '999xx'\n",
      " '634xx' '455xx' '143xx' '154xx' '562xx' '779xx' '561xx' '734xx' '789xx'\n",
      " '812xx' '268xx' '051xx' '865xx' '406xx' '661xx' '758xx' '676xx' '491xx'\n",
      " '267xx' '609xx' '595xx' '259xx' '163xx' '264xx' '409xx' '376xx' '471xx'\n",
      " '375xx' '747xx' '123xx' '714xx' '590xx' '639xx' '412xx' '425xx' '022xx'\n",
      " '369xx' '164xx' '825xx' '266xx' '096xx' '487xx' '251xx' '593xx' '169xx'\n",
      " '413xx' '155xx' '764xx' '710xx' '408xx' '668xx' '056xx' '669xx' '167xx'\n",
      " '542xx' '679xx' '462xx' '792xx' '824xx' '249xx' '798xx' '370xx' '485xx'\n",
      " '654xx' '289xx' '807xx' '252xx' '556xx' '353xx' '677xx' '090xx' '371xx'\n",
      " '831xx' '736xx' '007xx' '332xx' '468xx' '461xx' '093xx' '248xx' '463xx'\n",
      " '391xx' '381xx' '415xx' '378xx' '414xx' '396xx' '836xx' '044xx' '392xx'\n",
      " '772xx' '374xx' '823xx' '395xx' '394xx' '965xx' '390xx' '388xx' '386xx'\n",
      " '040xx' '385xx' '379xx' '681xx' '837xx' '373xx' '753xx' '834xx' '383xx'\n",
      " '384xx' '372xx' '833xx' '522xx' '523xx' '474xx' '465xx' '689xx' '473xx'\n",
      " '041xx' '685xx' '479xx' '469xx' '738xx' '418xx' '204xx' '059xx' '878xx'\n",
      " '460xx' '426xx' '514xx' '500xx' '503xx' '832xx' '691xx' '470xx' '036xx'\n",
      " '467xx' '476xx' '478xx' '466xx' '377xx' '475xx' '477xx' '472xx' '994xx'\n",
      " '873xx' '464xx' '979xx' '569xx' '382xx' '680xx' '879xx' '049xx' '962xx'\n",
      " '502xx' '942xx' '621xx' '417xx' '091xx' '643xx' '821xx' '340xx' '513xx'\n",
      " '387xx' '393xx' '389xx' '429xx' '311xx' '682xx' '854xx' '582xx' '929xx'\n",
      " '938xx' '008xx' '861xx' '888xx' '098xx' '524xx' '889xx' '092xx' '510xx'\n",
      " '909xx' '516xx' '043xx' '587xx' '511xx' '901xx']\n",
      "KOLOM addr_state \t : ['AZ' 'GA' 'IL' 'CA' 'OR' 'NC' 'TX' 'VA' 'MO' 'CT' 'UT' 'FL' 'NY' 'PA'\n",
      " 'MN' 'NJ' 'KY' 'OH' 'SC' 'RI' 'LA' 'MA' 'WA' 'WI' 'AL' 'CO' 'KS' 'NV'\n",
      " 'AK' 'MD' 'WV' 'VT' 'MI' 'DC' 'SD' 'NH' 'AR' 'NM' 'MT' 'HI' 'WY' 'OK'\n",
      " 'DE' 'MS' 'TN' 'IA' 'NE' 'ID' 'IN' 'ME']\n",
      "KOLOM initial_list_status \t : ['f' 'w']\n",
      "KOLOM application_type \t : ['INDIVIDUAL']\n"
     ]
    }
   ],
   "source": [
    "colDatType = df.select_dtypes('object').columns\n",
    "\n",
    "for i in colDatType:\n",
    "    print('KOLOM {} \\t : {}'.format(i, df[i].unique()))"
   ]
  },
  {
   "cell_type": "code",
   "execution_count": 19,
   "id": "407b391e",
   "metadata": {
    "scrolled": false
   },
   "outputs": [
    {
     "data": {
      "image/png": "[encoded data removed]",
      "text/plain": [
       "<Figure size 720x720 with 1 Axes>"
      ]
     },
     "metadata": {
      "needs_background": "light"
     },
     "output_type": "display_data"
    },
    {
     "data": {
      "image/png": "[encoded data removed]",
      "text/plain": [
       "<Figure size 720x720 with 1 Axes>"
      ]
     },
     "metadata": {
      "needs_background": "light"
     },
     "output_type": "display_data"
    },
    {
     "data": {
      "image/png": "[encoded data removed]",
      "text/plain": [
       "<Figure size 720x720 with 1 Axes>"
      ]
     },
     "metadata": {
      "needs_background": "light"
     },
     "output_type": "display_data"
    },
    {
     "data": {
      "image/png": "[encoded data removed]",
      "text/plain": [
       "<Figure size 720x720 with 1 Axes>"
      ]
     },
     "metadata": {
      "needs_background": "light"
     },
     "output_type": "display_data"
    },
    {
     "data": {
      "image/png": "[encoded data removed]",
      "text/plain": [
       "<Figure size 720x720 with 1 Axes>"
      ]
     },
     "metadata": {
      "needs_background": "light"
     },
     "output_type": "display_data"
    },
    {
     "data": {
      "image/png": "[encoded data removed]",
      "text/plain": [
       "<Figure size 720x720 with 1 Axes>"
      ]
     },
     "metadata": {
      "needs_background": "light"
     },
     "output_type": "display_data"
    },
    {
     "data": {
      "image/png": "[encoded data removed]",
      "text/plain": [
       "<Figure size 720x720 with 1 Axes>"
      ]
     },
     "metadata": {
      "needs_background": "light"
     },
     "output_type": "display_data"
    },
    {
     "data": {
      "image/png": "[encoded data removed]",
      "text/plain": [
       "<Figure size 720x720 with 1 Axes>"
      ]
     },
     "metadata": {
      "needs_background": "light"
     },
     "output_type": "display_data"
    },
    {
     "data": {
      "image/png": "[encoded data removed]",
      "text/plain": [
       "<Figure size 720x720 with 1 Axes>"
      ]
     },
     "metadata": {
      "needs_background": "light"
     },
     "output_type": "display_data"
    }
   ],
   "source": [
    "for i in colDatType:\n",
    "    if df[i].nunique() < 15:\n",
    "        plt.figure(figsize = (10,10))\n",
    "        sns.countplot(data = df, x = i)     \n",
    "        plt.show()"
   ]
  }
 ],
 "metadata": {
  "kernelspec": {
   "display_name": "Python 3 (ipykernel)",
   "language": "python",
   "name": "python3"
  },
  "language_info": {
   "codemirror_mode": {
    "name": "ipython",
    "version": 3
   },
   "file_extension": ".py",
   "mimetype": "text/x-python",
   "name": "python",
   "nbconvert_exporter": "python",
   "pygments_lexer": "ipython3",
   "version": "3.9.12"
  }
 },
 "nbformat": 4,
 "nbformat_minor": 5
}
